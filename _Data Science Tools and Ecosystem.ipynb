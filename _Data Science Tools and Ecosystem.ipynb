{
 "cells": [
  {
   "cell_type": "markdown",
   "id": "203a4b26-fdb2-4117-9c3f-1605be19a2fc",
   "metadata": {},
   "source": [
    "# Data Science Tools and Ecosystem "
   ]
  },
  {
   "cell_type": "markdown",
   "id": "c66da2cf-54ed-405d-b5ab-508f1ce3c713",
   "metadata": {},
   "source": [
    "# In this notebook, Data Science Tools and Ecosystem are summarized."
   ]
  },
  {
   "cell_type": "markdown",
   "id": "589cc8cf-e2ed-40c0-9248-4f2ff60aea52",
   "metadata": {},
   "source": [
    "# Some of the popular languages that Data Scientists use are:Python, R, SQL, Scala, Java commonly used languages for data science."
   ]
  },
  {
   "cell_type": "markdown",
   "id": "1025e1fc-8106-411e-b5eb-f940c804f17c",
   "metadata": {},
   "source": [
    "# Some of the commonly used libraries used by Data Scientists include:"
   ]
  },
  {
   "cell_type": "markdown",
   "id": "d329d572-3190-440e-b2e6-3aa56c1aea87",
   "metadata": {},
   "source": [
    "# Pandas,NumPy,Matplotlib,TensorFlow"
   ]
  },
  {
   "cell_type": "code",
   "execution_count": null,
   "id": "953953cd-2ac8-4906-8870-f6c4aae3edf9",
   "metadata": {},
   "outputs": [],
   "source": []
  },
  {
   "cell_type": "markdown",
   "id": "0ce71533-6f41-49a2-a30f-eef6c4ecaca7",
   "metadata": {},
   "source": [
    "|Data science tools|\n",
    "|------------------|\n",
    "|TensorFlow|\n",
    "|MLeap|\n",
    "|Seldon|"
   ]
  },
  {
   "cell_type": "markdown",
   "id": "bf077beb-e45e-4b5d-95a7-3067ed60b99b",
   "metadata": {
    "jp-MarkdownHeadingCollapsed": true
   },
   "source": [
    "<h3>Below are a few examples of evaluating arithmetic expressions in Python</h3>"
   ]
  },
  {
   "cell_type": "markdown",
   "id": "6baee231-a512-4bd0-be2f-dc944a674c06",
   "metadata": {},
   "source": [
    "# This a simple arithmetic expression to mutiply then add integers"
   ]
  },
  {
   "cell_type": "code",
   "execution_count": 2,
   "id": "4a7b65d2-0a38-48f5-ad7b-c5080b9bbaf7",
   "metadata": {},
   "outputs": [
    {
     "data": {
      "text/plain": [
       "17"
      ]
     },
     "execution_count": 2,
     "metadata": {},
     "output_type": "execute_result"
    }
   ],
   "source": [
    "(3*4)+5"
   ]
  },
  {
   "cell_type": "markdown",
   "id": "971c61ab-58b7-4f0c-8f00-d51518ef9f36",
   "metadata": {},
   "source": [
    "# This will convert 200 minutes to hours by diving by 60"
   ]
  },
  {
   "cell_type": "code",
   "execution_count": 4,
   "id": "976d1061-71b5-4430-bfdd-ecd373a30a9a",
   "metadata": {},
   "outputs": [
    {
     "data": {
      "text/plain": [
       "3.3333333333333335"
      ]
     },
     "execution_count": 4,
     "metadata": {},
     "output_type": "execute_result"
    }
   ],
   "source": [
    "200/60"
   ]
  },
  {
   "cell_type": "markdown",
   "id": "acfe8ab6-a230-475d-b988-113f9c6066e7",
   "metadata": {},
   "source": [
    "<b>List objectives:</b>"
   ]
  },
  {
   "cell_type": "markdown",
   "id": "cba2a039-bf24-4953-b645-b7f0985b4dd3",
   "metadata": {},
   "source": [
    "* Create a Jupyter Notebook\n",
    "* \r\n",
    "Insert code and markdown cel\n",
    "* share your notebook through GitHubtHub"
   ]
  },
  {
   "cell_type": "markdown",
   "id": "56d9781a-100e-475d-bfbe-4761b0c35753",
   "metadata": {},
   "source": [
    "### Author"
   ]
  },
  {
   "cell_type": "markdown",
   "id": "aff69e98-c62d-43aa-941f-03ca71fea95d",
   "metadata": {},
   "source": [
    "#### Kefale Debie"
   ]
  },
  {
   "cell_type": "code",
   "execution_count": null,
   "id": "83ba0dc3-d9df-44d9-9c19-eed14670e683",
   "metadata": {},
   "outputs": [],
   "source": []
  }
 ],
 "metadata": {
  "kernelspec": {
   "display_name": "anaconda-panel-2023.05-py310",
   "language": "python",
   "name": "conda-env-anaconda-panel-2023.05-py310-py"
  },
  "language_info": {
   "codemirror_mode": {
    "name": "ipython",
    "version": 3
   },
   "file_extension": ".py",
   "mimetype": "text/x-python",
   "name": "python",
   "nbconvert_exporter": "python",
   "pygments_lexer": "ipython3",
   "version": "3.11.5"
  }
 },
 "nbformat": 4,
 "nbformat_minor": 5
}
